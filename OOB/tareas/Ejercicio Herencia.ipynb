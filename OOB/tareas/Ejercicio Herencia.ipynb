{
 "cells": [
  {
   "cell_type": "code",
   "execution_count": 43,
   "id": "fbf482a9-ae6b-460c-8055-0a10101c0ffa",
   "metadata": {},
   "outputs": [],
   "source": [
    "class Empleado:\n",
    "    nombre: str\n",
    "    antigüedad: int\n",
    "    puesto: str\n",
    "    salario: int\n",
    "    \n",
    "    def __init__(self, nombre, antigüedad):\n",
    "        self.nombre = nombre\n",
    "        self.antigüedad = antigüedad\n",
    "    def trabajar(self):\n",
    "        print(self.nombre + \" \" + self.trabajo, end = \"\")\n",
    "\n",
    "class Tiene_Bono(Empleado):    \n",
    "    def definir_salario(self):\n",
    "        bono = 1000\n",
    "        nuevo_salario = self.salario + (bono * self.antigüedad)\n",
    "        self.salario = nuevo_salario\n",
    "    \n",
    "class Programador(Tiene_Bono):\n",
    "    def __init__(self, nombre, antigüedad):\n",
    "        self.trabajo = \"programa\"\n",
    "        super().__init__(nombre, antigüedad)\n",
    "    def definir_salario(self):\n",
    "        self.salario = 25000\n",
    "        super().definir_salario()\n",
    "        return self.salario\n",
    "        \n",
    "class Secretaria(Tiene_Bono):\n",
    "    def __init__(self, nombre, antigüedad):\n",
    "        self.trabajo = \"apoya\"\n",
    "        super().__init__(nombre, antigüedad)\n",
    "    def definir_salario(self):\n",
    "        self.salario = 15000\n",
    "        super().definir_salario()\n",
    "        return self.salario\n",
    "        \n",
    "class Gerente(Empleado):\n",
    "    def __init__(self, nombre, antigüedad):\n",
    "        self.trabajo = \"gerencia\"\n",
    "        super().__init__(nombre, antigüedad)\n",
    "    def definir_salario(self):\n",
    "        self.salario = 50000 \n",
    "        return self.salario\n",
    "    def aumentar_salario(self, empleado, aumento):\n",
    "        empleado.salario += aumento"
   ]
  },
  {
   "cell_type": "code",
   "execution_count": 48,
   "id": "f6ada210-4ec0-42cc-8f60-43fdf7b2b61b",
   "metadata": {},
   "outputs": [
    {
     "name": "stdout",
     "output_type": "stream",
     "text": [
      "27010\n",
      "<class '__main__.Gerente'>\n"
     ]
    }
   ],
   "source": [
    "yo = Gerente(\"Daniel\", 5)\n",
    "noyo = Programador(\"Carlos\", 2)\n",
    "noyo.definir_salario()\n",
    "yo.aumentar_salario(noyo, 10)\n",
    "print(noyo.salario)"
   ]
  },
  {
   "cell_type": "code",
   "execution_count": 57,
   "id": "21e720e9-7b81-4a71-b1af-355f3a1f6cee",
   "metadata": {},
   "outputs": [
    {
     "name": "stdout",
     "output_type": "stream",
     "text": [
      "Daniel gerencia con un salario de 50000\n",
      "Carlos programa con un salario de 28000\n",
      "Ivonne apoya con un salario de 16000\n",
      "Daniel puede aumentar el sueldo \n",
      "¿A quién se lo aumentará?\n"
     ]
    },
    {
     "name": "stdin",
     "output_type": "stream",
     "text": [
      " Carlos\n"
     ]
    },
    {
     "name": "stdout",
     "output_type": "stream",
     "text": [
      "¿Cuánto aumentará el sueldo?\n"
     ]
    },
    {
     "name": "stdin",
     "output_type": "stream",
     "text": [
      " 100\n"
     ]
    },
    {
     "name": "stdout",
     "output_type": "stream",
     "text": [
      "Carlos programa con un salario de 28100\n"
     ]
    }
   ],
   "source": [
    "lista = ((\"Daniel\", 2, \"Gerente\"),\n",
    "        (\"Carlos\", 3, \"Programador\"),\n",
    "        (\"Ivonne\", 1, \"Secretaria\"))\n",
    "\n",
    "empleados = []\n",
    "\n",
    "for nombre,antigüedad, puesto in lista:\n",
    "    if puesto == \"Gerente\":\n",
    "        empleados.append(Gerente(nombre, antigüedad))\n",
    "    if puesto == \"Programador\":\n",
    "        empleados.append(Programador(nombre, antigüedad))\n",
    "    if puesto == \"Secretaria\":\n",
    "        empleados.append(Secretaria(nombre, antigüedad))\n",
    "\n",
    "for empleado in empleados:\n",
    "    temp_salario = str(empleado.definir_salario())\n",
    "    empleado.trabajar()\n",
    "    print(\" con un salario de \" + temp_salario)   \n",
    "    \n",
    "for empleado in empleados:\n",
    "    if type(empleado) == Gerente:\n",
    "        print(empleado.nombre + \" puede aumentar el sueldo \\n¿A quién se lo aumentará?\")\n",
    "        nombre_empleado = input()\n",
    "        print(\"¿Cuánto aumentará el sueldo?\")\n",
    "        aumento_sueldo = int(input())\n",
    "        for empleado2 in empleados:\n",
    "            if empleado2.nombre == nombre_empleado:\n",
    "                empleado.aumentar_salario(empleado2, aumento_sueldo)\n",
    "                empleado2.trabajar()\n",
    "                print(\" con un salario de \" + str(empleado2.salario)) "
   ]
  },
  {
   "cell_type": "code",
   "execution_count": null,
   "id": "7ff5a128-3166-4515-8a83-5899727e8f9f",
   "metadata": {},
   "outputs": [],
   "source": []
  }
 ],
 "metadata": {
  "kernelspec": {
   "display_name": "Python 3 (ipykernel)",
   "language": "python",
   "name": "python3"
  },
  "language_info": {
   "codemirror_mode": {
    "name": "ipython",
    "version": 3
   },
   "file_extension": ".py",
   "mimetype": "text/x-python",
   "name": "python",
   "nbconvert_exporter": "python",
   "pygments_lexer": "ipython3",
   "version": "3.9.5"
  }
 },
 "nbformat": 4,
 "nbformat_minor": 5
}
